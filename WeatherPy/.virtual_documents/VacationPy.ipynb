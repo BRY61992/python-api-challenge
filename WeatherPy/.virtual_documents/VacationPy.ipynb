


# Dependencies and Setup
import hvplot.pandas
import pandas as pd
import requests

# Import API key
from api_keys import geoapify_key


# Load the CSV file created in Part 1 into a Pandas DataFrame
city_data_df = pd.read_csv("output_data/cities.csv")

# Display sample data
city_data_df.head()





%%capture --no-display

# Configure the map plot
import hvplot.pandas
import pandas as pd

# Load the data (assuming city_data_df is already loaded as per instructions)
map_plot = city_data_df.hvplot.points(
    'Lng', 
    'Lat',                      # Longitude and Latitude for x and y
    geo=True,                          # Enables geographic plotting
    tiles='OSM',                       # Use OpenStreetMap tiles as the background
    size='Humidity',                   # Size of each point is proportional to humidity
    color='City',                      # Unique color for each city
    legend='right',                    # Places the legend on the right side to match image
    frame_width=800,                   # Width of the plot frame
    frame_height=500,                  # Height of the plot frame
    title='City Locations with Humidity Represented by Point Size',
    fill_alpha=0.4,                    # Set transparency level for see-through effect
    xlabel='x',                        # Set minimal label for x-axis
    ylabel='y',                        # Set minimal label for y-axis
    
)

# Display the map
map_plot





# Narrow down cities that fit criteria and drop any results with null values
# Example criteria: cities with Max Temp between 20 and 30, Humidity below 60, and Cloudiness below 20

ideal_cities_df = city_data_df[
    (city_data_df['Max Temp'] >= 20) & (city_data_df['Max Temp'] <= 30) &  # Temperature range
    (city_data_df['Humidity'] < 60) &                                      # Low humidity
    (city_data_df['Cloudiness'] < 20)                                      # Low cloudiness
]

# Drop any rows with null values
ideal_cities_df = ideal_cities_df.dropna()

# Display sample data
ideal_cities_df.head(20)  # Displaying the first 20 rows to match the output sample






# Use the Pandas copy function to create a DataFrame called hotel_df
# This will store the city, country, coordinates, and humidity
hotel_df = ideal_cities_df[['City', 'Country', 'Lat', 'Lng', 'Humidity']].copy()

# Add an empty column, "Hotel Name", to the DataFrame
hotel_df['Hotel Name'] = ""

# Display sample data
hotel_df.head(20)  # Display the first 20 rows to match the sample output






# Set parameters to search for a hotel
radius = 10000  # Search radius in meters
params = {
    "categories": "accommodation.hotel",  # Category for hotels
    "limit": 1,                           # We only need the first (nearest) hotel
    "apiKey": geoapify_key                # Your Geoapify API key
}

# Print a message to follow up the hotel search
print("Starting hotel search")

# Iterate through the hotel_df DataFrame
for index, row in hotel_df.iterrows():
    # Get Latitude, Longitude from the DataFrame
    lat, lon = row['Lat'], row['Lng']
    
    # Add the current city's Latitude and Longitude to the params dictionary
    params["filter"] = f"circle:{lon},{lat},{radius}"
    params["bias"] = f"proximity:{lon},{lat}"
    
    # Set base URL
    base_url = "https://api.geoapify.com/v2/places"
    
    # Make an API request using the params dictionary
    response = requests.get(base_url, params=params)
    
    # Convert the API response to JSON format
    name_address = response.json()
    
    # Grab the first hotel from the results and store the name in the hotel_df DataFrame
    try:
        hotel_df.loc[index, 'Hotel Name'] = name_address['features'][0]['properties']['name']
    except (KeyError, IndexError):
        # If no hotel is found, set the hotel name as "No hotel found".
        hotel_df.loc[index, "Hotel Name"] = "No hotel found"
    
    # Log the search results
    print(f"{hotel_df.loc[index, 'City']} - nearest hotel: {hotel_df.loc[index, 'Hotel Name']}")

# Display sample data
hotel_df





%%capture --no-display

# Configure the map plot with hover information formatted to match the example
map_plot = hotel_df.hvplot.points(
    'Lng',
    'Lat',                            # Longitude and Latitude for x and y
    geo=True,                                # Enables geographic plotting
    tiles='OSM',                             # Use OpenStreetMap tiles as the background
    size='Humidity',                         # Size of each point is proportional to humidity
    color='City',                            # Unique color for each city
    legend='right',                          # Places the legend on the right side
    frame_width=800,                         # Width of the plot frame
    frame_height=500,                        # Height of the plot frame
    fill_alpha=0.4,                          # Set point transparency to semi-transparent
    xlabel='x',                              # Minimal label for x-axis
    ylabel='y' ,                              # Minimal label for y-axis
    hover_cols=['Hotel Name', 'Country']
)



# Display the map
map_plot



